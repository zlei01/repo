{
 "cells": [
  {
   "cell_type": "markdown",
   "metadata": {},
   "source": [
    "# 读取Excel文件"
   ]
  },
  {
   "cell_type": "code",
   "execution_count": 121,
   "metadata": {},
   "outputs": [
    {
     "name": "stdout",
     "output_type": "stream",
     "text": [
      "Looking in indexes: https://mirror.baidu.com/pypi/simple/\r\n",
      "Requirement already satisfied: xlrd in /opt/conda/envs/python35-paddle120-env/lib/python3.7/site-packages (1.2.0)\r\n"
     ]
    },
    {
     "data": {
      "text/html": [
       "<div>\n",
       "<style scoped>\n",
       "    .dataframe tbody tr th:only-of-type {\n",
       "        vertical-align: middle;\n",
       "    }\n",
       "\n",
       "    .dataframe tbody tr th {\n",
       "        vertical-align: top;\n",
       "    }\n",
       "\n",
       "    .dataframe thead th {\n",
       "        text-align: right;\n",
       "    }\n",
       "</style>\n",
       "<table border=\"1\" class=\"dataframe\">\n",
       "  <thead>\n",
       "    <tr style=\"text-align: right;\">\n",
       "      <th>id</th>\n",
       "      <th>1</th>\n",
       "      <th>2</th>\n",
       "      <th>3</th>\n",
       "    </tr>\n",
       "  </thead>\n",
       "  <tbody>\n",
       "    <tr>\n",
       "      <th>positionID</th>\n",
       "      <td>1</td>\n",
       "      <td>2</td>\n",
       "      <td>3</td>\n",
       "    </tr>\n",
       "    <tr>\n",
       "      <th>positionName</th>\n",
       "      <td>python</td>\n",
       "      <td>python</td>\n",
       "      <td>Python开发工程师</td>\n",
       "    </tr>\n",
       "    <tr>\n",
       "      <th>longitude</th>\n",
       "      <td>113.264</td>\n",
       "      <td>113.264</td>\n",
       "      <td>113.264</td>\n",
       "    </tr>\n",
       "    <tr>\n",
       "      <th>latitude</th>\n",
       "      <td>23.1292</td>\n",
       "      <td>23.1292</td>\n",
       "      <td>23.1292</td>\n",
       "    </tr>\n",
       "    <tr>\n",
       "      <th>workYear</th>\n",
       "      <td>1-3年</td>\n",
       "      <td>3-5年</td>\n",
       "      <td>1-3年</td>\n",
       "    </tr>\n",
       "    <tr>\n",
       "      <th>education</th>\n",
       "      <td>本科</td>\n",
       "      <td>本科</td>\n",
       "      <td>本科</td>\n",
       "    </tr>\n",
       "    <tr>\n",
       "      <th>salary</th>\n",
       "      <td>10-15K</td>\n",
       "      <td>15-25K</td>\n",
       "      <td>15-25K</td>\n",
       "    </tr>\n",
       "    <tr>\n",
       "      <th>city</th>\n",
       "      <td>广州</td>\n",
       "      <td>广州</td>\n",
       "      <td>广州</td>\n",
       "    </tr>\n",
       "    <tr>\n",
       "      <th>jobNature</th>\n",
       "      <td>全职</td>\n",
       "      <td>全职</td>\n",
       "      <td>全职</td>\n",
       "    </tr>\n",
       "    <tr>\n",
       "      <th>financeStage</th>\n",
       "      <td>A轮</td>\n",
       "      <td>A轮</td>\n",
       "      <td>不需要融资</td>\n",
       "    </tr>\n",
       "    <tr>\n",
       "      <th>crawl_date</th>\n",
       "      <td>2020-05-15 00:00:00</td>\n",
       "      <td>2020-04-22 00:00:00</td>\n",
       "      <td>2020-05-18 00:00:00</td>\n",
       "    </tr>\n",
       "    <tr>\n",
       "      <th>companyFullName</th>\n",
       "      <td>省省回头车</td>\n",
       "      <td>省省回头车</td>\n",
       "      <td>悦谦科技</td>\n",
       "    </tr>\n",
       "    <tr>\n",
       "      <th>industryField</th>\n",
       "      <td>消费生活</td>\n",
       "      <td>消费生活</td>\n",
       "      <td>移动互联网</td>\n",
       "    </tr>\n",
       "    <tr>\n",
       "      <th>companyShortName</th>\n",
       "      <td>省省回头车</td>\n",
       "      <td>省省回头车</td>\n",
       "      <td>悦谦科技</td>\n",
       "    </tr>\n",
       "    <tr>\n",
       "      <th>companySize</th>\n",
       "      <td>150-500人</td>\n",
       "      <td>150-500人</td>\n",
       "      <td>50-150人</td>\n",
       "    </tr>\n",
       "    <tr>\n",
       "      <th>companyLabelList</th>\n",
       "      <td>“五险一金 年底双薪”</td>\n",
       "      <td>“五险一金 年底双薪”</td>\n",
       "      <td>“双休，发展空间大，团队氛围好，扁平化管理”</td>\n",
       "    </tr>\n",
       "    <tr>\n",
       "      <th>positionAdvantage</th>\n",
       "      <td>Golang</td>\n",
       "      <td>Golang</td>\n",
       "      <td>金融</td>\n",
       "    </tr>\n",
       "    <tr>\n",
       "      <th>label_2</th>\n",
       "      <td>GO</td>\n",
       "      <td>GO</td>\n",
       "      <td>Python</td>\n",
       "    </tr>\n",
       "    <tr>\n",
       "      <th>label_3</th>\n",
       "      <td>NaN</td>\n",
       "      <td>NaN</td>\n",
       "      <td>数据挖掘</td>\n",
       "    </tr>\n",
       "    <tr>\n",
       "      <th>label_4</th>\n",
       "      <td>NaN</td>\n",
       "      <td>NaN</td>\n",
       "      <td>图像算法</td>\n",
       "    </tr>\n",
       "    <tr>\n",
       "      <th>job</th>\n",
       "      <td>python</td>\n",
       "      <td>python</td>\n",
       "      <td>python</td>\n",
       "    </tr>\n",
       "    <tr>\n",
       "      <th>district</th>\n",
       "      <td>广州</td>\n",
       "      <td>广州</td>\n",
       "      <td>广州</td>\n",
       "    </tr>\n",
       "  </tbody>\n",
       "</table>\n",
       "</div>"
      ],
      "text/plain": [
       "id                                   1                    2  \\\n",
       "positionID                           1                    2   \n",
       "positionName                    python               python   \n",
       "longitude                      113.264              113.264   \n",
       "latitude                       23.1292              23.1292   \n",
       "workYear                          1-3年                 3-5年   \n",
       "education                           本科                   本科   \n",
       "salary                          10-15K               15-25K   \n",
       "city                                广州                   广州   \n",
       "jobNature                           全职                   全职   \n",
       "financeStage                       A轮                   A轮    \n",
       "crawl_date         2020-05-15 00:00:00  2020-04-22 00:00:00   \n",
       "companyFullName                  省省回头车                省省回头车   \n",
       "industryField                     消费生活                 消费生活   \n",
       "companyShortName                 省省回头车                省省回头车   \n",
       "companySize                   150-500人             150-500人   \n",
       "companyLabelList           “五险一金 年底双薪”          “五险一金 年底双薪”   \n",
       "positionAdvantage               Golang               Golang   \n",
       "label_2                             GO                   GO   \n",
       "label_3                            NaN                  NaN   \n",
       "label_4                            NaN                  NaN   \n",
       "job                             python               python   \n",
       "district                            广州                   广州   \n",
       "\n",
       "id                                      3  \n",
       "positionID                              3  \n",
       "positionName                  Python开发工程师  \n",
       "longitude                         113.264  \n",
       "latitude                          23.1292  \n",
       "workYear                             1-3年  \n",
       "education                              本科  \n",
       "salary                             15-25K  \n",
       "city                                   广州  \n",
       "jobNature                              全职  \n",
       "financeStage                       不需要融资   \n",
       "crawl_date            2020-05-18 00:00:00  \n",
       "companyFullName                      悦谦科技  \n",
       "industryField                       移动互联网  \n",
       "companyShortName                     悦谦科技  \n",
       "companySize                       50-150人  \n",
       "companyLabelList   “双休，发展空间大，团队氛围好，扁平化管理”  \n",
       "positionAdvantage                      金融  \n",
       "label_2                            Python  \n",
       "label_3                              数据挖掘  \n",
       "label_4                              图像算法  \n",
       "job                                python  \n",
       "district                               广州  "
      ]
     },
     "execution_count": 121,
     "metadata": {},
     "output_type": "execute_result"
    }
   ],
   "source": [
    "import pandas as pd\n",
    "!pip install xlrd\n",
    "\n",
    "df = pd.read_excel(\"jobs.xls\",index_col=0)\n",
    "df.head(3).T"
   ]
  },
  {
   "cell_type": "markdown",
   "metadata": {},
   "source": [
    "# 3. 城市挖掘数据分析"
   ]
  },
  {
   "cell_type": "markdown",
   "metadata": {},
   "source": [
    "## 3.1 Python公司规模与工作城市之间的相关关系\n",
    "由于公司规模与工作城市之间是多对多的关系，很多城市都有2000人以上的公司，同一城市也有不同规模大小的公司。因此这里选择了三个城市（北京、成都、杭州），并对它的公司规模进行分析。"
   ]
  },
  {
   "cell_type": "code",
   "execution_count": 122,
   "metadata": {},
   "outputs": [
    {
     "data": {
      "text/plain": [
       "北京      7341\n",
       "上海      6391\n",
       "深圳      5519\n",
       "成都      4895\n",
       "广州      3889\n",
       "杭州      2417\n",
       "长沙      1277\n",
       "西安      1211\n",
       "武汉      1014\n",
       "南京       608\n",
       "厦门       448\n",
       "青岛       413\n",
       "苏州       324\n",
       "福州       272\n",
       "重庆       234\n",
       "郑州       200\n",
       "天津       199\n",
       "济南       161\n",
       "昆明       152\n",
       "中山       137\n",
       "珠海       121\n",
       "合肥       100\n",
       "大连       100\n",
       "佛山        95\n",
       "宁波        69\n",
       "绵阳        57\n",
       "太原        52\n",
       "湖州        49\n",
       "宝鸡        44\n",
       "东莞        42\n",
       "        ... \n",
       "徐州        13\n",
       "沈阳        12\n",
       "南昌        12\n",
       "许昌        12\n",
       "南宁        11\n",
       "无锡        11\n",
       "潍坊         9\n",
       "惠州         7\n",
       "保定         7\n",
       "梅州         5\n",
       "乌鲁木齐       4\n",
       "西宁         4\n",
       "香港         4\n",
       "澳门半岛       3\n",
       "威海         3\n",
       "银川         2\n",
       "义乌         2\n",
       "海外         2\n",
       "泉州         2\n",
       "海口         2\n",
       "沧州         2\n",
       "烟台         2\n",
       "盐城         1\n",
       "台州         1\n",
       "贵港         1\n",
       "开封         1\n",
       "钦州         1\n",
       "日照         1\n",
       "辛安         1\n",
       "南通         1\n",
       "Name: city, Length: 70, dtype: int64"
      ]
     },
     "execution_count": 122,
     "metadata": {},
     "output_type": "execute_result"
    }
   ],
   "source": [
    "# 筛选岗位为python的行\n",
    "df1 = df[df[\"job\"] == \"python\"]\n",
    "# 统计城市数量\n",
    "df1 = df1[[\"companySize\", \"city\"]]\n",
    "df1[\"city\"].value_counts()"
   ]
  },
  {
   "cell_type": "code",
   "execution_count": 123,
   "metadata": {},
   "outputs": [
    {
     "data": {
      "image/png": "[encoded data removed]",
      "text/plain": [
       "<Figure size 720x360 with 1 Axes>"
      ]
     },
     "metadata": {},
     "output_type": "display_data"
    }
   ],
   "source": [
    "import matplotlib\n",
    "from matplotlib import pyplot as plt\n",
    "\n",
    "# 对workYear进行统计\n",
    "df1_1 = df1[df1[\"city\"] == \"北京\"]\n",
    "ss1_1 = df1_1[\"companySize\"].value_counts()\n",
    "\n",
    "plt.figure(figsize=(10, 5))\n",
    "plt.bar(range(7), ss1_1)\n",
    "plt.title(\"北京Python岗位公司规模\", fontproperties=myfont)\n",
    "plt.xticks(range(7), ss1_1.index, fontproperties=myfont)\n",
    "plt.ylabel(\"数量\", fontproperties=myfont)\n",
    "plt.show()"
   ]
  },
  {
   "cell_type": "code",
   "execution_count": 124,
   "metadata": {},
   "outputs": [
    {
     "data": {
      "image/png": "[encoded data removed]",
      "text/plain": [
       "<Figure size 720x360 with 1 Axes>"
      ]
     },
     "metadata": {},
     "output_type": "display_data"
    }
   ],
   "source": [
    "import matplotlib\n",
    "from matplotlib import pyplot as plt\n",
    "\n",
    "# 对workYear进行统计\n",
    "df1_2 = df1[df1[\"city\"] == \"成都\"]\n",
    "ss1_2 = df1_2[\"companySize\"].value_counts()\n",
    "\n",
    "plt.figure(figsize=(10, 5))\n",
    "plt.bar(range(7), ss1_2)\n",
    "plt.title(\"成都Python岗位公司规模\", fontproperties=myfont)\n",
    "plt.xticks(range(7), ss1_2.index, fontproperties=myfont)\n",
    "plt.ylabel(\"数量\", fontproperties=myfont)\n",
    "plt.show()"
   ]
  },
  {
   "cell_type": "code",
   "execution_count": 125,
   "metadata": {},
   "outputs": [
    {
     "data": {
      "image/png": "[encoded data removed]",
      "text/plain": [
       "<Figure size 720x360 with 1 Axes>"
      ]
     },
     "metadata": {},
     "output_type": "display_data"
    }
   ],
   "source": [
    "import matplotlib\n",
    "from matplotlib import pyplot as plt\n",
    "\n",
    "# 对workYear进行统计\n",
    "df1_3 = df1[df1[\"city\"] == \"杭州\"]\n",
    "ss1_3 = df1_3[\"companySize\"].value_counts()\n",
    "\n",
    "plt.figure(figsize=(10, 5))\n",
    "plt.bar(range(6), ss1_3)\n",
    "plt.title(\"杭州Python岗位公司规模\", fontproperties=myfont)\n",
    "plt.xticks(range(6), ss1_3.index, fontproperties=myfont)\n",
    "plt.ylabel(\"数量\", fontproperties=myfont)\n",
    "plt.show()"
   ]
  },
  {
   "cell_type": "markdown",
   "metadata": {},
   "source": [
    "## 1.2 Python行业领域与工作城市之间的相关关系"
   ]
  },
  {
   "cell_type": "code",
   "execution_count": 126,
   "metadata": {},
   "outputs": [
    {
     "data": {
      "text/plain": [
       "北京      7341\n",
       "上海      6391\n",
       "深圳      5519\n",
       "成都      4895\n",
       "广州      3889\n",
       "杭州      2417\n",
       "长沙      1277\n",
       "西安      1211\n",
       "武汉      1014\n",
       "南京       608\n",
       "厦门       448\n",
       "青岛       413\n",
       "苏州       324\n",
       "福州       272\n",
       "重庆       234\n",
       "郑州       200\n",
       "天津       199\n",
       "济南       161\n",
       "昆明       152\n",
       "中山       137\n",
       "珠海       121\n",
       "合肥       100\n",
       "大连       100\n",
       "佛山        95\n",
       "宁波        69\n",
       "绵阳        57\n",
       "太原        52\n",
       "湖州        49\n",
       "宝鸡        44\n",
       "东莞        42\n",
       "        ... \n",
       "徐州        13\n",
       "沈阳        12\n",
       "南昌        12\n",
       "许昌        12\n",
       "南宁        11\n",
       "无锡        11\n",
       "潍坊         9\n",
       "惠州         7\n",
       "保定         7\n",
       "梅州         5\n",
       "乌鲁木齐       4\n",
       "西宁         4\n",
       "香港         4\n",
       "澳门半岛       3\n",
       "威海         3\n",
       "银川         2\n",
       "义乌         2\n",
       "海外         2\n",
       "泉州         2\n",
       "海口         2\n",
       "沧州         2\n",
       "烟台         2\n",
       "盐城         1\n",
       "台州         1\n",
       "贵港         1\n",
       "开封         1\n",
       "钦州         1\n",
       "日照         1\n",
       "辛安         1\n",
       "南通         1\n",
       "Name: city, Length: 70, dtype: int64"
      ]
     },
     "execution_count": 126,
     "metadata": {},
     "output_type": "execute_result"
    }
   ],
   "source": [
    "df2 = df[df[\"job\"] == \"python\"]\n",
    "df2 = df2[[\"industryField\", \"city\"]]\n",
    "df2[\"city\"].value_counts()"
   ]
  },
  {
   "cell_type": "code",
   "execution_count": 127,
   "metadata": {},
   "outputs": [
    {
     "data": {
      "image/png": "[encoded data removed]",
      "text/plain": [
       "<Figure size 720x360 with 1 Axes>"
      ]
     },
     "metadata": {},
     "output_type": "display_data"
    }
   ],
   "source": [
    "import matplotlib\n",
    "from matplotlib import pyplot as plt\n",
    "\n",
    "df2_1 = df2[df2[\"city\"] == \"北京\"]\n",
    "ss2_1 = df2_1[\"industryField\"].value_counts()\n",
    "\n",
    "plt.figure(figsize=(10, 5))\n",
    "plt.bar(range(10), ss2_1[:10])\n",
    "plt.title(\"北京Python岗位行业领域分布\", fontproperties=myfont)\n",
    "plt.xticks(range(10), ss2_1.index, fontproperties=myfont)\n",
    "plt.ylabel(\"数量\", fontproperties=myfont)\n",
    "plt.show()"
   ]
  },
  {
   "cell_type": "markdown",
   "metadata": {},
   "source": [
    "是不是 **移动互联网** 行业都集中在大城市呢？"
   ]
  },
  {
   "cell_type": "code",
   "execution_count": 128,
   "metadata": {},
   "outputs": [
    {
     "data": {
      "image/png": "[encoded data removed]",
      "text/plain": [
       "<Figure size 720x360 with 1 Axes>"
      ]
     },
     "metadata": {},
     "output_type": "display_data"
    }
   ],
   "source": [
    "import matplotlib\n",
    "from matplotlib import pyplot as plt\n",
    "\n",
    "df2_2 = df2[df2[\"industryField\"] == \"移动互联网\"]\n",
    "ss2_2 = df2_2[\"city\"].value_counts()\n",
    "\n",
    "plt.figure(figsize=(10, 5))\n",
    "plt.bar(range(10), ss2_2[:10])\n",
    "plt.title(\"移动互联网行业城市分布\", fontproperties=myfont)\n",
    "plt.xticks(range(10), ss2_2.index, fontproperties=myfont)\n",
    "plt.ylabel(\"数量\", fontproperties=myfont)\n",
    "plt.show()"
   ]
  },
  {
   "cell_type": "markdown",
   "metadata": {},
   "source": [
    "照柱状图来看似乎是的。不过，为什么南京排在这么后面呢？"
   ]
  },
  {
   "cell_type": "markdown",
   "metadata": {},
   "source": [
    "# 4. 榜单数据分析（雷达图）"
   ]
  },
  {
   "cell_type": "markdown",
   "metadata": {},
   "source": [
    "## 4.1 请构建多个综合评价指标，构建Python城市活力榜单\n",
    "使用雷达图来为城市打分，由于城市中不同工作数据不一致，例如北京Python岗位的工作年限不一样，有的不限，而有的需要1-3年甚至10年以上。为了更好地“评价”城市，我们对每一个属性分配一个权重，最后按照加权和地方式为城市打分。"
   ]
  },
  {
   "cell_type": "markdown",
   "metadata": {},
   "source": [
    "工作年限workYear"
   ]
  },
  {
   "cell_type": "code",
   "execution_count": 129,
   "metadata": {},
   "outputs": [
    {
     "data": {
      "text/plain": [
       "3.39429233074513"
      ]
     },
     "execution_count": 129,
     "metadata": {},
     "output_type": "execute_result"
    }
   ],
   "source": [
    "hashmap = {\n",
    "    \"不限\": 5,\n",
    "    \"不限 \": 5,\n",
    "    \"应届\": 4.5,\n",
    "    \"1年以下\": 4,\n",
    "    \"1-3年\": 3.5,\n",
    "    \"3-5年\": 3,\n",
    "    \"5-10年\": 2.5,\n",
    "    \"10年以上\": 2\n",
    "}\n",
    "df1 = df[df[\"job\"] == \"python\"]\n",
    "df1 = df1[df1[\"city\"] == \"北京\"]\n",
    "workyear = list(df1[\"workYear\"].value_counts().index)\n",
    "nums = list(df1[\"workYear\"].value_counts().values)\n",
    "scores = 0\n",
    "for i in range(len(workyear)):\n",
    "    # 权重 × 数量\n",
    "    scores += hashmap[workyear[i]] * nums[i]\n",
    "    \n",
    "workYear_w = scores / df1[\"workYear\"].value_counts().values.sum()\n",
    "workYear_w"
   ]
  },
  {
   "cell_type": "markdown",
   "metadata": {},
   "source": [
    "学历水平education"
   ]
  },
  {
   "cell_type": "code",
   "execution_count": 130,
   "metadata": {},
   "outputs": [
    {
     "data": {
      "text/plain": [
       "4.020773736548154"
      ]
     },
     "execution_count": 130,
     "metadata": {},
     "output_type": "execute_result"
    }
   ],
   "source": [
    "hashmap = {\n",
    "    \"不限\": 5,\n",
    "    \"大专\": 4.5,\n",
    "    \"本科\": 4,\n",
    "    \"硕士\": 3.5,\n",
    "    \"博士\": 3\n",
    "}\n",
    "# 筛选北京Python岗位信息\n",
    "df1 = df[df[\"job\"] == \"python\"]\n",
    "df1 = df1[df1[\"city\"] == \"北京\"]\n",
    "# 统计education数量\n",
    "education = list(df1[\"education\"].value_counts().index)\n",
    "nums = list(df1[\"education\"].value_counts().values)\n",
    "# 计算加权和\n",
    "scores = 0\n",
    "for i in range(len(education)):\n",
    "    # 权重 × 数量\n",
    "    scores += hashmap[education[i]] * nums[i]\n",
    "\n",
    "education_w = scores / df1[\"education\"].value_counts().values.sum()\n",
    "education_w"
   ]
  },
  {
   "cell_type": "markdown",
   "metadata": {},
   "source": [
    "工资薪酬salary"
   ]
  },
  {
   "cell_type": "code",
   "execution_count": 131,
   "metadata": {},
   "outputs": [
    {
     "data": {
      "text/plain": [
       "4.548358534259638"
      ]
     },
     "execution_count": 131,
     "metadata": {},
     "output_type": "execute_result"
    }
   ],
   "source": [
    "hashmap = {\n",
    "    \"25K以上\": 5,\n",
    "    \"15-25K\": 4.5,\n",
    "    \"10-15K\": 4,\n",
    "    \"5-10K\": 3.5,\n",
    "    \"5K以下\": 3\n",
    "}\n",
    "# 筛选北京Python岗位信息\n",
    "df1 = df[df[\"job\"] == \"python\"]\n",
    "df1 = df1[df1[\"city\"] == \"北京\"]\n",
    "# 统计salary数量\n",
    "salary = list(df1[\"salary\"].value_counts().index)\n",
    "nums = list(df1[\"salary\"].value_counts().values)\n",
    "# 计算加权和\n",
    "scores = 0\n",
    "for i in range(len(salary)):\n",
    "    # 权重 × 数量\n",
    "    scores += hashmap[salary[i]] * nums[i]\n",
    "\n",
    "salary_w = scores / df1[\"salary\"].value_counts().values.sum()\n",
    "salary_w"
   ]
  },
  {
   "cell_type": "markdown",
   "metadata": {},
   "source": [
    "公司规模companySize"
   ]
  },
  {
   "cell_type": "code",
   "execution_count": 132,
   "metadata": {},
   "outputs": [
    {
     "data": {
      "text/plain": [
       "4.067088952458793"
      ]
     },
     "execution_count": 132,
     "metadata": {},
     "output_type": "execute_result"
    }
   ],
   "source": [
    "hashmap = {\n",
    "   \" 2000人以上\": 5,\n",
    "   \" 500-2000人\": 4.5,\n",
    "   \" 150-500人\": 4,\n",
    "   \" 50-150人\": 3.5,\n",
    "   \" 少于50人\": 3,\n",
    "   \" 15-50人\": 2.5,\n",
    "   \" 少于15人\": 2\n",
    "}\n",
    "# 筛选北京Python岗位信息\n",
    "df1 = df[df[\"job\"] == \"python\"]\n",
    "df1 = df1[df1[\"city\"] == \"北京\"]\n",
    "# 统计companySize数量\n",
    "companySize = list(df1[\"companySize\"].value_counts().index)\n",
    "nums = list(df1[\"companySize\"].value_counts().values)\n",
    "# 计算加权和\n",
    "scores = 0\n",
    "for i in range(len(companySize)):\n",
    "    # 权重 × 数量\n",
    "    scores += hashmap[companySize[i]] * nums[i]\n",
    "\n",
    "companySize_w = scores / df1[\"companySize\"].value_counts().values.sum()\n",
    "companySize_w"
   ]
  },
  {
   "cell_type": "markdown",
   "metadata": {},
   "source": [
    "融资轮数financeStage"
   ]
  },
  {
   "cell_type": "code",
   "execution_count": 133,
   "metadata": {},
   "outputs": [
    {
     "data": {
      "text/plain": [
       "3.3709303909549106"
      ]
     },
     "execution_count": 133,
     "metadata": {},
     "output_type": "execute_result"
    }
   ],
   "source": [
    "hashmap = {\n",
    "   \" 上市公司 \": 5,\n",
    "   \" D轮及以上 \": 4.5,\n",
    "   \" C轮 \": 4,\n",
    "   \" B轮 \": 3.5,\n",
    "   \" A轮 \": 3,\n",
    "   \" 天使轮 \": 2.5,\n",
    "   \" 未融资 \": 2,\n",
    "   \" 不需要融资 \": 2\n",
    "}\n",
    "# 筛选北京Python岗位信息\n",
    "df1 = df[df[\"job\"] == \"python\"]\n",
    "df1 = df1[df1[\"city\"] == \"北京\"]\n",
    "# 统计financeStage数量\n",
    "financeStage = list(df1[\"financeStage\"].value_counts().index)\n",
    "nums = list(df1[\"financeStage\"].value_counts().values)\n",
    "# 计算加权和\n",
    "scores = 0\n",
    "for i in range(len(financeStage)):\n",
    "    # 权重 × 数量\n",
    "    scores += hashmap[financeStage[i]] * nums[i]\n",
    "\n",
    "financeStage_w = scores / df1[\"financeStage\"].value_counts().values.sum()\n",
    "financeStage_w"
   ]
  },
  {
   "cell_type": "markdown",
   "metadata": {},
   "source": [
    "一切准备就绪~Let's draw！✍"
   ]
  },
  {
   "cell_type": "code",
   "execution_count": 134,
   "metadata": {},
   "outputs": [
    {
     "data": {
      "image/png": "[encoded data removed]",
      "text/plain": [
       "<Figure size 432x288 with 1 Axes>"
      ]
     },
     "metadata": {},
     "output_type": "display_data"
    }
   ],
   "source": [
    "import numpy as np\n",
    "import matplotlib.pyplot as plt\n",
    "\n",
    "# 构造数据\n",
    "values = [workyear_w, education_w, salary_w, companySize_w, financeStage_w]\n",
    "feature = [\"工作年限\", \"学历要求\", \"工资薪水\", \"公司规模\", \"融资情况\"]\n",
    "N = len(values)\n",
    "# 设置雷达图的角度，用于平分切开一个平面\n",
    "angles = np.linspace(0.3*np.pi, 0.3*np.pi+2*np.pi,N,endpoint=False)\n",
    "# 使雷达图封闭起来\n",
    "values = np.concatenate((values,[values[0]]))\n",
    "angles = np.concatenate((angles,[angles[0]]))\n",
    "# 绘图\n",
    "fig = plt.figure()\n",
    "# 设置为极坐标格式\n",
    "ax = fig.add_subplot(111, polar=True)\n",
    "# 绘制折线图\n",
    "ax.plot(angles,values,'b-',linewidth=2,label='北京')\n",
    "ax.fill(angles,values,'b',alpha=0.5)\n",
    "# 添加每个特质的标签\n",
    "ax.set_thetagrids(angles*180/np.pi, feature, FontProperties=myfont)\n",
    "# 设置极轴范围\n",
    "ax.set_ylim(0,5)\n",
    "# 添加标题\n",
    "plt.title('Python城市活力榜单', FontProperties=myfont)\n",
    "# 增加网格纸\n",
    "ax.grid(True)\n",
    "plt.show()"
   ]
  },
  {
   "cell_type": "markdown",
   "metadata": {},
   "source": [
    "## 4.2 请构建多个综合评价指标，构建Python公司活力榜单\n",
    "这里康一康百度对于普通人的招聘条件"
   ]
  },
  {
   "cell_type": "code",
   "execution_count": 135,
   "metadata": {},
   "outputs": [
    {
     "data": {
      "text/html": [
       "<div>\n",
       "<style scoped>\n",
       "    .dataframe tbody tr th:only-of-type {\n",
       "        vertical-align: middle;\n",
       "    }\n",
       "\n",
       "    .dataframe tbody tr th {\n",
       "        vertical-align: top;\n",
       "    }\n",
       "\n",
       "    .dataframe thead th {\n",
       "        text-align: right;\n",
       "    }\n",
       "</style>\n",
       "<table border=\"1\" class=\"dataframe\">\n",
       "  <thead>\n",
       "    <tr style=\"text-align: right;\">\n",
       "      <th>id</th>\n",
       "      <th>5092</th>\n",
       "      <th>5108</th>\n",
       "      <th>5213</th>\n",
       "    </tr>\n",
       "  </thead>\n",
       "  <tbody>\n",
       "    <tr>\n",
       "      <th>positionID</th>\n",
       "      <td>5092</td>\n",
       "      <td>5108</td>\n",
       "      <td>5213</td>\n",
       "    </tr>\n",
       "    <tr>\n",
       "      <th>positionName</th>\n",
       "      <td>C++/Python/Java研发工程师</td>\n",
       "      <td>ACG智慧医疗事业部_Python后端工程师</td>\n",
       "      <td>C++/Python/Java研发工程师</td>\n",
       "    </tr>\n",
       "    <tr>\n",
       "      <th>longitude</th>\n",
       "      <td>116.408</td>\n",
       "      <td>116.408</td>\n",
       "      <td>116.408</td>\n",
       "    </tr>\n",
       "    <tr>\n",
       "      <th>latitude</th>\n",
       "      <td>39.904</td>\n",
       "      <td>39.904</td>\n",
       "      <td>39.904</td>\n",
       "    </tr>\n",
       "    <tr>\n",
       "      <th>workYear</th>\n",
       "      <td>1-3年</td>\n",
       "      <td>不限</td>\n",
       "      <td>1-3年</td>\n",
       "    </tr>\n",
       "    <tr>\n",
       "      <th>education</th>\n",
       "      <td>本科</td>\n",
       "      <td>本科</td>\n",
       "      <td>本科</td>\n",
       "    </tr>\n",
       "    <tr>\n",
       "      <th>salary</th>\n",
       "      <td>25K以上</td>\n",
       "      <td>25K以上</td>\n",
       "      <td>25K以上</td>\n",
       "    </tr>\n",
       "    <tr>\n",
       "      <th>city</th>\n",
       "      <td>北京</td>\n",
       "      <td>北京</td>\n",
       "      <td>北京</td>\n",
       "    </tr>\n",
       "    <tr>\n",
       "      <th>jobNature</th>\n",
       "      <td>全职</td>\n",
       "      <td>全职</td>\n",
       "      <td>全职</td>\n",
       "    </tr>\n",
       "    <tr>\n",
       "      <th>financeStage</th>\n",
       "      <td>不需要融资</td>\n",
       "      <td>不需要融资</td>\n",
       "      <td>不需要融资</td>\n",
       "    </tr>\n",
       "    <tr>\n",
       "      <th>crawl_date</th>\n",
       "      <td>2020-05-03 00:00:00</td>\n",
       "      <td>2020-04-24 00:00:00</td>\n",
       "      <td>2020-05-18 00:00:00</td>\n",
       "    </tr>\n",
       "    <tr>\n",
       "      <th>companyFullName</th>\n",
       "      <td>百度</td>\n",
       "      <td>百度</td>\n",
       "      <td>百度</td>\n",
       "    </tr>\n",
       "    <tr>\n",
       "      <th>industryField</th>\n",
       "      <td>工具</td>\n",
       "      <td>工具</td>\n",
       "      <td>工具</td>\n",
       "    </tr>\n",
       "    <tr>\n",
       "      <th>companyShortName</th>\n",
       "      <td>百度</td>\n",
       "      <td>百度</td>\n",
       "      <td>百度</td>\n",
       "    </tr>\n",
       "    <tr>\n",
       "      <th>companySize</th>\n",
       "      <td>2000人以上</td>\n",
       "      <td>2000人以上</td>\n",
       "      <td>2000人以上</td>\n",
       "    </tr>\n",
       "    <tr>\n",
       "      <th>companyLabelList</th>\n",
       "      <td>“大牛云集，领导好，待遇优厚”</td>\n",
       "      <td>“大牛云集，领导好，待遇优厚”</td>\n",
       "      <td>“大牛云集，领导好，待遇优厚”</td>\n",
       "    </tr>\n",
       "    <tr>\n",
       "      <th>positionAdvantage</th>\n",
       "      <td>C++</td>\n",
       "      <td>移动互联网</td>\n",
       "      <td>C++</td>\n",
       "    </tr>\n",
       "    <tr>\n",
       "      <th>label_2</th>\n",
       "      <td>Python</td>\n",
       "      <td>后端</td>\n",
       "      <td>Python</td>\n",
       "    </tr>\n",
       "    <tr>\n",
       "      <th>label_3</th>\n",
       "      <td>Java</td>\n",
       "      <td>NaN</td>\n",
       "      <td>Java</td>\n",
       "    </tr>\n",
       "    <tr>\n",
       "      <th>label_4</th>\n",
       "      <td>NaN</td>\n",
       "      <td>NaN</td>\n",
       "      <td>NaN</td>\n",
       "    </tr>\n",
       "    <tr>\n",
       "      <th>job</th>\n",
       "      <td>python</td>\n",
       "      <td>python</td>\n",
       "      <td>python</td>\n",
       "    </tr>\n",
       "    <tr>\n",
       "      <th>district</th>\n",
       "      <td>北京</td>\n",
       "      <td>北京</td>\n",
       "      <td>北京</td>\n",
       "    </tr>\n",
       "  </tbody>\n",
       "</table>\n",
       "</div>"
      ],
      "text/plain": [
       "id                                 5092                    5108  \\\n",
       "positionID                         5092                    5108   \n",
       "positionName       C++/Python/Java研发工程师  ACG智慧医疗事业部_Python后端工程师   \n",
       "longitude                       116.408                 116.408   \n",
       "latitude                         39.904                  39.904   \n",
       "workYear                           1-3年                      不限   \n",
       "education                            本科                      本科   \n",
       "salary                            25K以上                   25K以上   \n",
       "city                                 北京                      北京   \n",
       "jobNature                            全职                      全职   \n",
       "financeStage                     不需要融资                   不需要融资    \n",
       "crawl_date          2020-05-03 00:00:00     2020-04-24 00:00:00   \n",
       "companyFullName                      百度                      百度   \n",
       "industryField                        工具                      工具   \n",
       "companyShortName                     百度                      百度   \n",
       "companySize                     2000人以上                 2000人以上   \n",
       "companyLabelList        “大牛云集，领导好，待遇优厚”         “大牛云集，领导好，待遇优厚”   \n",
       "positionAdvantage                   C++                   移动互联网   \n",
       "label_2                          Python                      后端   \n",
       "label_3                            Java                     NaN   \n",
       "label_4                             NaN                     NaN   \n",
       "job                              python                  python   \n",
       "district                             北京                      北京   \n",
       "\n",
       "id                                 5213  \n",
       "positionID                         5213  \n",
       "positionName       C++/Python/Java研发工程师  \n",
       "longitude                       116.408  \n",
       "latitude                         39.904  \n",
       "workYear                           1-3年  \n",
       "education                            本科  \n",
       "salary                            25K以上  \n",
       "city                                 北京  \n",
       "jobNature                            全职  \n",
       "financeStage                     不需要融资   \n",
       "crawl_date          2020-05-18 00:00:00  \n",
       "companyFullName                      百度  \n",
       "industryField                        工具  \n",
       "companyShortName                     百度  \n",
       "companySize                     2000人以上  \n",
       "companyLabelList        “大牛云集，领导好，待遇优厚”  \n",
       "positionAdvantage                   C++  \n",
       "label_2                          Python  \n",
       "label_3                            Java  \n",
       "label_4                             NaN  \n",
       "job                              python  \n",
       "district                             北京  "
      ]
     },
     "execution_count": 135,
     "metadata": {},
     "output_type": "execute_result"
    }
   ],
   "source": [
    "df2 = df[df[\"job\"] == \"python\"]\n",
    "df2 = df2[df2[\"companyFullName\"] == \"百度\"]\n",
    "df2.head(3).T"
   ]
  },
  {
   "cell_type": "markdown",
   "metadata": {},
   "source": [
    "工作年限workYear"
   ]
  },
  {
   "cell_type": "code",
   "execution_count": 136,
   "metadata": {},
   "outputs": [
    {
     "data": {
      "text/plain": [
       "4.239583333333333"
      ]
     },
     "execution_count": 136,
     "metadata": {},
     "output_type": "execute_result"
    }
   ],
   "source": [
    "hashmap = {\n",
    "    \"不限\": 5,\n",
    "    \"不限 \": 5,\n",
    "    \"应届\": 4.5,\n",
    "    \"1年以下\": 4,\n",
    "    \"1-3年\": 3.5,\n",
    "    \"3-5年\": 3,\n",
    "    \"5-10年\": 2.5,\n",
    "    \"10年以上\": 2\n",
    "}\n",
    "# 筛选岗位信息\n",
    "df2 = df[df[\"job\"] == \"python\"]\n",
    "df2 = df2[df2[\"companyFullName\"] == \"百度\"]\n",
    "# 统计salary数量\n",
    "workYear = list(df2[\"workYear\"].value_counts().index)\n",
    "nums = list(df2[\"workYear\"].value_counts().values)\n",
    "# 计算加权和\n",
    "scores = 0\n",
    "for i in range(len(workYear)):\n",
    "    # 权重 × 数量\n",
    "    scores += hashmap[workYear[i]] * nums[i]\n",
    "\n",
    "workYear_w = scores / df2[\"workYear\"].value_counts().values.sum()\n",
    "workYear_w"
   ]
  },
  {
   "cell_type": "markdown",
   "metadata": {},
   "source": [
    "工资薪水salary"
   ]
  },
  {
   "cell_type": "code",
   "execution_count": 137,
   "metadata": {},
   "outputs": [
    {
     "data": {
      "text/plain": [
       "4.572916666666667"
      ]
     },
     "execution_count": 137,
     "metadata": {},
     "output_type": "execute_result"
    }
   ],
   "source": [
    "hashmap = {\n",
    "    \"25K以上\": 5,\n",
    "    \"15-25K\": 4.5,\n",
    "    \"10-15K\": 4,\n",
    "    \"5-10K\": 3.5,\n",
    "    \"5K以下\": 3\n",
    "}\n",
    "# 筛选北京Python岗位信息\n",
    "df2 = df[df[\"job\"] == \"python\"]\n",
    "df2 = df2[df2[\"companyFullName\"] == \"百度\"]\n",
    "# 统计salary数量\n",
    "salary = list(df2[\"salary\"].value_counts().index)\n",
    "nums = list(df2[\"salary\"].value_counts().values)\n",
    "# 计算加权和\n",
    "scores = 0\n",
    "for i in range(len(salary)):\n",
    "    # 权重 × 数量\n",
    "    scores += hashmap[salary[i]] * nums[i]\n",
    "\n",
    "salary_w = scores / df2[\"salary\"].value_counts().values.sum()\n",
    "salary_w"
   ]
  },
  {
   "cell_type": "markdown",
   "metadata": {},
   "source": [
    "学历水平education"
   ]
  },
  {
   "cell_type": "code",
   "execution_count": 138,
   "metadata": {},
   "outputs": [
    {
     "data": {
      "text/plain": [
       "4.166666666666667"
      ]
     },
     "execution_count": 138,
     "metadata": {},
     "output_type": "execute_result"
    }
   ],
   "source": [
    "hashmap = {\n",
    "    \"不限\": 5,\n",
    "    \"大专\": 4.5,\n",
    "    \"本科\": 4,\n",
    "    \"硕士\": 3.5,\n",
    "    \"博士\": 3\n",
    "}\n",
    "# 筛选岗位信息\n",
    "df2 = df[df[\"job\"] == \"python\"]\n",
    "df2 = df2[df2[\"companyFullName\"] == \"百度\"]\n",
    "# 统计数量\n",
    "education = list(df2[\"education\"].value_counts().index)\n",
    "nums = list(df2[\"education\"].value_counts().values)\n",
    "# 计算加权和\n",
    "scores = 0\n",
    "for i in range(len(education)):\n",
    "    # 权重 × 数量\n",
    "    scores += hashmap[education[i]] * nums[i]\n",
    "\n",
    "education_w = scores / df2[\"education\"].value_counts().values.sum()\n",
    "education_w"
   ]
  },
  {
   "cell_type": "code",
   "execution_count": 139,
   "metadata": {},
   "outputs": [
    {
     "data": {
      "image/png": "[encoded data removed]",
      "text/plain": [
       "<Figure size 432x288 with 1 Axes>"
      ]
     },
     "metadata": {},
     "output_type": "display_data"
    }
   ],
   "source": [
    "import numpy as np\n",
    "import matplotlib.pyplot as plt\n",
    "\n",
    "#构造数据\n",
    "values = [workYear_w, salary_w, education_w]\n",
    "feature = [\"工作年限\", \"工资薪水\", \"学历要求\"]\n",
    "N = len(values)\n",
    "#设置雷达图的角度，用于平分切开一个平面\n",
    "angles = np.linspace(0.2*np.pi, 0.2*np.pi+2*np.pi,N,endpoint=False)\n",
    "#使雷达图封闭起来\n",
    "values = np.concatenate((values,[values[0]]))\n",
    "angles = np.concatenate((angles,[angles[0]]))\n",
    "#绘图\n",
    "fig = plt.figure()\n",
    "#设置为极坐标格式\n",
    "ax = fig.add_subplot(111, polar=True)\n",
    "#绘制折线图\n",
    "ax.plot(angles,values,'b-',linewidth=2,label='百度')\n",
    "ax.fill(angles,values,'b',alpha=0.5)\n",
    "#添加每个特质的标签\n",
    "ax.set_thetagrids(angles*180/np.pi, feature, FontProperties=myfont)\n",
    "#设置极轴范围\n",
    "ax.set_ylim(0,5)\n",
    "#添加标题\n",
    "plt.title('Python公司活力榜单', FontProperties=myfont)\n",
    "#增加网格纸\n",
    "ax.grid(True)\n",
    "plt.show()"
   ]
  },
  {
   "cell_type": "raw",
   "metadata": {},
   "source": []
  }
 ],
 "metadata": {
  "kernelspec": {
   "display_name": "Python 3 (ipykernel)",
   "language": "python",
   "name": "python3"
  },
  "language_info": {
   "codemirror_mode": {
    "name": "ipython",
    "version": 3
   },
   "file_extension": ".py",
   "mimetype": "text/x-python",
   "name": "python",
   "nbconvert_exporter": "python",
   "pygments_lexer": "ipython3",
   "version": "3.9.7"
  }
 },
 "nbformat": 4,
 "nbformat_minor": 1
}
